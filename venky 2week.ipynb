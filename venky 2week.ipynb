{
 "cells": [
  {
   "cell_type": "code",
   "execution_count": 2,
   "id": "ace8fdfa-c4a9-4b8d-8fb1-c6475be75d9b",
   "metadata": {},
   "outputs": [
    {
     "name": "stdout",
     "output_type": "stream",
     "text": [
      "Step 2 - Grouped by 'relationship' and 'hours-per-week':\n",
      "    relationship  hours-per-week  count\n",
      "0        Husband              40      1\n",
      "1        Husband              60      1\n",
      "2  Not-in-family              20      1\n",
      "3      Own-child              15      1\n",
      "4      Unmarried              30      1\n",
      "5           Wife              50      1\n",
      "\n",
      "Step 4 - Grouped by 'relationship' and reduced 'hours-per-week':\n",
      "    relationship  reduced-hours  count\n",
      "0        Husband             36      1\n",
      "1        Husband             56      1\n",
      "2  Not-in-family             16      1\n",
      "3      Own-child             11      1\n",
      "4      Unmarried             26      1\n",
      "5           Wife             46      1\n"
     ]
    }
   ],
   "source": [
    "import pandas as pd\n",
    "\n",
    "# Sample DataFrame similar to the UCI Adult dataset\n",
    "data = {\n",
    "    'relationship': ['Husband', 'Not-in-family', 'Own-child', 'Unmarried', 'Husband', 'Wife'],\n",
    "    'hours-per-week': [40, 20, 15, 30, 60, 50]\n",
    "}\n",
    "df = pd.DataFrame(data)\n",
    "\n",
    "# Step 1: Determine n (last digit of SID 2281544 is 4)\n",
    "n = 4 if 4 != 0 else 10\n",
    "\n",
    "# Step 2: Group by 'relationship' and 'hours-per-week'\n",
    "grouped_before = df.groupby(['relationship', 'hours-per-week']).size().reset_index(name='count')\n",
    "print(\"Step 2 - Grouped by 'relationship' and 'hours-per-week':\")\n",
    "print(grouped_before)\n",
    "\n",
    "# Step 3: Reduce 'hours-per-week' by n using a function\n",
    "def reduce_hours(x):\n",
    "    return x - n\n",
    "\n",
    "df['reduced-hours'] = df['hours-per-week'].apply(reduce_hours)\n",
    "\n",
    "# Step 4: Group by 'relationship' and 'reduced-hours'\n",
    "grouped_after = df.groupby(['relationship', 'reduced-hours']).size().reset_index(name='count')\n",
    "print(\"\\nStep 4 - Grouped by 'relationship' and reduced 'hours-per-week':\")\n",
    "print(grouped_after)\n"
   ]
  },
  {
   "cell_type": "markdown",
   "id": "1664dff0-c6f6-4391-a7a4-d379ce13f5e1",
   "metadata": {},
   "source": [
    "## "
   ]
  }
 ],
 "metadata": {
  "kernelspec": {
   "display_name": "Python 3 (ipykernel)",
   "language": "python",
   "name": "python3"
  },
  "language_info": {
   "codemirror_mode": {
    "name": "ipython",
    "version": 3
   },
   "file_extension": ".py",
   "mimetype": "text/x-python",
   "name": "python",
   "nbconvert_exporter": "python",
   "pygments_lexer": "ipython3",
   "version": "3.12.7"
  }
 },
 "nbformat": 4,
 "nbformat_minor": 5
}
