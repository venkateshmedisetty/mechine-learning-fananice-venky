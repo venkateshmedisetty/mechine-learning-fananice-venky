{
 "cells": [
  {
   "cell_type": "code",
   "execution_count": 15,
   "id": "edf2b785-4442-4fcd-9adc-395bf9b3655b",
   "metadata": {},
   "outputs": [
    {
     "name": "stdout",
     "output_type": "stream",
     "text": [
      "Step 1 - Vector a:\n",
      " [ 0  1  2  3  4  5  6  7  8  9 10 11 12 13 14 15 16 17 18 19 20 21 22 23\n",
      " 24 25 26 27 28 29 30 31 32 33 34 35 36 37 38 39 40 41 42 43]\n"
     ]
    }
   ],
   "source": [
    "import numpy as np\n",
    "\n",
    "# Step 1: Create a vector with 44 elements using np.arange\n",
    "a = np.arange(44)\n",
    "print(\"Step 1 - Vector a:\\n\", a)\n"
   ]
  },
  {
   "cell_type": "code",
   "execution_count": 17,
   "id": "c6a3994b-6609-49c4-a5cc-b08827023413",
   "metadata": {},
   "outputs": [
    {
     "name": "stdout",
     "output_type": "stream",
     "text": [
      "Step 2 - 2D array with 1 row:\n",
      " [[ 0  1  2  3  4  5  6  7  8  9 10 11 12 13 14 15 16 17 18 19 20 21 22 23\n",
      "  24 25 26 27 28 29 30 31 32 33 34 35 36 37 38 39 40 41 42 43]]\n"
     ]
    }
   ],
   "source": [
    "# Step 2: Reshape 'a' into a 2D array with 1 row\n",
    "a_2d = a.reshape(1, -1)\n",
    "print(\"Step 2 - 2D array with 1 row:\\n\", a_2d)\n",
    "\n"
   ]
  },
  {
   "cell_type": "code",
   "execution_count": 19,
   "id": "750db79c-ad0e-4b13-a738-2fdcc84c5deb",
   "metadata": {},
   "outputs": [
    {
     "name": "stdout",
     "output_type": "stream",
     "text": [
      "Step 3 - Copied array b:\n",
      " [[ 0  1  2  3  4  5  6  7  8  9 10 11 12 13 14 15 16 17 18 19 20 21 22 23\n",
      "  24 25 26 27 28 29 30 31 32 33 34 35 36 37 38 39 40 41 42 43]]\n"
     ]
    }
   ],
   "source": [
    "# Step 3: Copy the reshaped array to another array\n",
    "b = a_2d.copy()\n",
    "print(\"Step 3 - Copied array b:\\n\", b)\n",
    "\n"
   ]
  },
  {
   "cell_type": "markdown",
   "id": "2ce72b17-47dd-4641-8d1e-3ff17c44c491",
   "metadata": {},
   "source": [
    "# Step 4: Check shape of the array 'b'\n",
    "print(\"Step 4 - Shape of b:\", b.shape)\n"
   ]
  },
  {
   "cell_type": "code",
   "execution_count": null,
   "id": "5724f6a6-e7e0-406b-9c81-65389a650da0",
   "metadata": {},
   "outputs": [],
   "source": []
  }
 ],
 "metadata": {
  "kernelspec": {
   "display_name": "Python 3 (ipykernel)",
   "language": "python",
   "name": "python3"
  },
  "language_info": {
   "codemirror_mode": {
    "name": "ipython",
    "version": 3
   },
   "file_extension": ".py",
   "mimetype": "text/x-python",
   "name": "python",
   "nbconvert_exporter": "python",
   "pygments_lexer": "ipython3",
   "version": "3.12.7"
  }
 },
 "nbformat": 4,
 "nbformat_minor": 5
}
