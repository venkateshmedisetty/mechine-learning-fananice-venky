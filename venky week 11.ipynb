{
 "cells": [
  {
   "cell_type": "code",
   "execution_count": 15,
   "id": "01c17d48-7286-4a14-abdd-fad5acc60163",
   "metadata": {},
   "outputs": [],
   "source": [
    "import pandas as pd\n",
    "import numpy as np\n",
    "from sklearn.model_selection import train_test_split\n",
    "from sklearn.preprocessing import StandardScaler\n",
    "\n",
    "# ✅ Load data from CSV (not notebook!)\n",
    "df = pd.read_csv(\"C:/Users/Gangadhar/Downloads/credit_risk_dataset.csv\")\n",
    "\n",
    "df.dropna(inplace=True)\n",
    "\n",
    "# Binary encoding\n",
    "df['cb_person_default_on_file'] = df['cb_person_default_on_file'].map({'Y': 1, 'N': 0})\n",
    "\n",
    "# One-hot encoding\n",
    "df = pd.get_dummies(df, columns=['person_home_ownership', 'loan_intent'])\n",
    "\n",
    "# Define X and y\n",
    "target = 'loan_status'\n",
    "X = df.drop(columns=[target])\n",
    "y = df[target].values\n",
    "\n",
    "# Normalize features\n",
    "scaler = StandardScaler()\n",
    "X_scaled = scaler.fit_transform(X)\n",
    "\n",
    "# Reshape for LSTM\n",
    "X_lstm = X_scaled.reshape((X_scaled.shape[0], 1, X_scaled.shape[1]))\n",
    "\n",
    "# Train-test split\n",
    "X_train, X_test, y_train, y_test = train_test_split(X_lstm, y, test_size=0.2, random_state=42, stratify=y)\n"
   ]
  },
  {
   "cell_type": "code",
   "execution_count": 17,
   "id": "d2dc8b52-e12d-4daa-ace5-f3b67312c7c5",
   "metadata": {},
   "outputs": [
    {
     "name": "stderr",
     "output_type": "stream",
     "text": [
      "C:\\Users\\Gangadhar\\anaconda3\\Lib\\site-packages\\keras\\src\\layers\\rnn\\rnn.py:204: UserWarning: Do not pass an `input_shape`/`input_dim` argument to a layer. When using Sequential models, prefer using an `Input(shape)` object as the first layer in the model instead.\n",
      "  super().__init__(**kwargs)\n"
     ]
    },
    {
     "name": "stdout",
     "output_type": "stream",
     "text": [
      "Epoch 1/10\n",
      "\u001b[1m323/323\u001b[0m \u001b[32m━━━━━━━━━━━━━━━━━━━━\u001b[0m\u001b[37m\u001b[0m \u001b[1m7s\u001b[0m 6ms/step - accuracy: 0.7560 - loss: 0.5320 - val_accuracy: 0.8599 - val_loss: 0.3349\n",
      "Epoch 2/10\n",
      "\u001b[1m323/323\u001b[0m \u001b[32m━━━━━━━━━━━━━━━━━━━━\u001b[0m\u001b[37m\u001b[0m \u001b[1m2s\u001b[0m 5ms/step - accuracy: 0.8705 - loss: 0.3249 - val_accuracy: 0.8869 - val_loss: 0.2988\n",
      "Epoch 3/10\n",
      "\u001b[1m323/323\u001b[0m \u001b[32m━━━━━━━━━━━━━━━━━━━━\u001b[0m\u001b[37m\u001b[0m \u001b[1m2s\u001b[0m 5ms/step - accuracy: 0.8789 - loss: 0.3091 - val_accuracy: 0.8904 - val_loss: 0.2882\n",
      "Epoch 4/10\n",
      "\u001b[1m323/323\u001b[0m \u001b[32m━━━━━━━━━━━━━━━━━━━━\u001b[0m\u001b[37m\u001b[0m \u001b[1m1s\u001b[0m 4ms/step - accuracy: 0.8854 - loss: 0.3035 - val_accuracy: 0.8931 - val_loss: 0.2801\n",
      "Epoch 5/10\n",
      "\u001b[1m323/323\u001b[0m \u001b[32m━━━━━━━━━━━━━━━━━━━━\u001b[0m\u001b[37m\u001b[0m \u001b[1m2s\u001b[0m 5ms/step - accuracy: 0.8924 - loss: 0.2916 - val_accuracy: 0.8952 - val_loss: 0.2784\n",
      "Epoch 6/10\n",
      "\u001b[1m323/323\u001b[0m \u001b[32m━━━━━━━━━━━━━━━━━━━━\u001b[0m\u001b[37m\u001b[0m \u001b[1m2s\u001b[0m 6ms/step - accuracy: 0.8879 - loss: 0.2935 - val_accuracy: 0.8983 - val_loss: 0.2702\n",
      "Epoch 7/10\n",
      "\u001b[1m323/323\u001b[0m \u001b[32m━━━━━━━━━━━━━━━━━━━━\u001b[0m\u001b[37m\u001b[0m \u001b[1m2s\u001b[0m 5ms/step - accuracy: 0.8907 - loss: 0.2880 - val_accuracy: 0.8979 - val_loss: 0.2688\n",
      "Epoch 8/10\n",
      "\u001b[1m323/323\u001b[0m \u001b[32m━━━━━━━━━━━━━━━━━━━━\u001b[0m\u001b[37m\u001b[0m \u001b[1m2s\u001b[0m 5ms/step - accuracy: 0.8909 - loss: 0.2858 - val_accuracy: 0.9018 - val_loss: 0.2654\n",
      "Epoch 9/10\n",
      "\u001b[1m323/323\u001b[0m \u001b[32m━━━━━━━━━━━━━━━━━━━━\u001b[0m\u001b[37m\u001b[0m \u001b[1m1s\u001b[0m 4ms/step - accuracy: 0.8887 - loss: 0.2932 - val_accuracy: 0.9014 - val_loss: 0.2632\n",
      "Epoch 10/10\n",
      "\u001b[1m323/323\u001b[0m \u001b[32m━━━━━━━━━━━━━━━━━━━━\u001b[0m\u001b[37m\u001b[0m \u001b[1m2s\u001b[0m 5ms/step - accuracy: 0.8975 - loss: 0.2753 - val_accuracy: 0.9048 - val_loss: 0.2613\n"
     ]
    }
   ],
   "source": [
    "import tensorflow as tf\n",
    "from tensorflow.keras.models import Sequential\n",
    "from tensorflow.keras.layers import LSTM, Dense, Dropout\n",
    "from tensorflow.keras.optimizers import Adam\n",
    "\n",
    "# Build LSTM model\n",
    "model = Sequential([\n",
    "    LSTM(64, input_shape=(1, X_train.shape[2]), return_sequences=False),\n",
    "    Dropout(0.3),\n",
    "    Dense(32, activation='relu'),\n",
    "    Dropout(0.2),\n",
    "    Dense(1, activation='sigmoid')\n",
    "])\n",
    "\n",
    "model.compile(loss='binary_crossentropy', optimizer=Adam(0.001), metrics=['accuracy'])\n",
    "\n",
    "# Train\n",
    "history = model.fit(X_train, y_train, epochs=10, batch_size=64, validation_split=0.1, verbose=1)\n"
   ]
  },
  {
   "cell_type": "code",
   "execution_count": 19,
   "id": "cf9237d2-95df-443e-a865-5d9e8d5030ea",
   "metadata": {},
   "outputs": [
    {
     "name": "stdout",
     "output_type": "stream",
     "text": [
      "\u001b[1m179/179\u001b[0m \u001b[32m━━━━━━━━━━━━━━━━━━━━\u001b[0m\u001b[37m\u001b[0m \u001b[1m1s\u001b[0m 2ms/step\n",
      "LSTM Accuracy: 0.8979\n",
      "LSTM Precision: 0.8727\n",
      "LSTM Recall: 0.6189\n",
      "LSTM F1-Score: 0.7242\n",
      "LSTM AUC: 0.9078\n"
     ]
    }
   ],
   "source": [
    "from sklearn.metrics import accuracy_score, precision_score, recall_score, f1_score, roc_auc_score\n",
    "\n",
    "# Predict\n",
    "y_pred_probs = model.predict(X_test)\n",
    "y_pred = (y_pred_probs > 0.5).astype(\"int32\")\n",
    "\n",
    "# Metrics\n",
    "lstm_accuracy = accuracy_score(y_test, y_pred)\n",
    "lstm_precision = precision_score(y_test, y_pred)\n",
    "lstm_recall = recall_score(y_test, y_pred)\n",
    "lstm_f1 = f1_score(y_test, y_pred)\n",
    "lstm_auc = roc_auc_score(y_test, y_pred_probs)\n",
    "\n",
    "# Print\n",
    "print(f\"LSTM Accuracy: {lstm_accuracy:.4f}\")\n",
    "print(f\"LSTM Precision: {lstm_precision:.4f}\")\n",
    "print(f\"LSTM Recall: {lstm_recall:.4f}\")\n",
    "print(f\"LSTM F1-Score: {lstm_f1:.4f}\")\n",
    "print(f\"LSTM AUC: {lstm_auc:.4f}\")\n"
   ]
  },
  {
   "cell_type": "code",
   "execution_count": 21,
   "id": "7898e705-0aa9-4d74-880e-2e62ec122425",
   "metadata": {},
   "outputs": [
    {
     "data": {
      "image/png": "[encoded data removed]",
      "text/plain": [
       "<Figure size 1000x600 with 1 Axes>"
      ]
     },
     "metadata": {},
     "output_type": "display_data"
    }
   ],
   "source": [
    "import matplotlib.pyplot as plt\n",
    "\n",
    "# Example: update this dictionary with other model results if available\n",
    "model_metrics = {\n",
    "    'LSTM': {\n",
    "        'Accuracy': lstm_accuracy,\n",
    "        'Precision': lstm_precision,\n",
    "        'Recall': lstm_recall,\n",
    "        'F1-Score': lstm_f1,\n",
    "        'AUC': lstm_auc\n",
    "    },\n",
    "    # Add other models like 'Logistic Regression', 'Random Forest', etc.\n",
    "}\n",
    "\n",
    "# Plot\n",
    "metrics_names = ['Accuracy', 'Precision', 'Recall', 'F1-Score', 'AUC']\n",
    "x = np.arange(len(metrics_names))\n",
    "width = 0.15\n",
    "\n",
    "plt.figure(figsize=(10, 6))\n",
    "\n",
    "for i, (model, scores) in enumerate(model_metrics.items()):\n",
    "    plt.bar(x + i * width, [scores[m] for m in metrics_names], width=width, label=model)\n",
    "\n",
    "plt.xlabel(\"Metrics\")\n",
    "plt.ylabel(\"Score\")\n",
    "plt.title(\"ML Models performance comparison\")\n",
    "plt.xticks(x + width / 2, metrics_names)\n",
    "plt.ylim(0, 1)\n",
    "plt.legend()\n",
    "plt.grid(True)\n",
    "plt.show()\n"
   ]
  },
  {
   "cell_type": "code",
   "execution_count": null,
   "id": "034a595b-2d6c-48ad-bfd1-e5cb1ea1399e",
   "metadata": {},
   "outputs": [],
   "source": []
  }
 ],
 "metadata": {
  "kernelspec": {
   "display_name": "Python 3 (ipykernel)",
   "language": "python",
   "name": "python3"
  },
  "language_info": {
   "codemirror_mode": {
    "name": "ipython",
    "version": 3
   },
   "file_extension": ".py",
   "mimetype": "text/x-python",
   "name": "python",
   "nbconvert_exporter": "python",
   "pygments_lexer": "ipython3",
   "version": "3.12.7"
  }
 },
 "nbformat": 4,
 "nbformat_minor": 5
}
