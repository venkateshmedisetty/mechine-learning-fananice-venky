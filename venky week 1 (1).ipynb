{
 "cells": [
  {
   "cell_type": "markdown",
   "id": "eb6aa827-3eb2-4ca1-b1d2-bf19726ee7ab",
   "metadata": {},
   "source": [
    "###### import numpy as np\n",
    "\n",
    "# Step 1: Create a vector using np.arange\n",
    "a = np.arange(44)\n",
    "print(\"Step 1 - Vector a:\")\n",
    "print(a)\n",
    "\n",
    "# Step 2: Change to 2D array with 1 row\n",
    "a_2d = a.reshape(1, -1)\n",
    "print(\"\\nStep 2 - 2D array with 1 row:\")\n",
    "print(a_2d)\n",
    "\n",
    "# Step 3: Save it in another array\n",
    "b = a_2d.copy()\n",
    "print(\"\\nStep 3 - Copied array b:\")\n",
    "print(b)\n",
    "\n",
    "# Step 4: Check the shape attribute value\n",
    "print(\"\\nStep 4 - Shape of array b:\")\n",
    "print(b.shape)\n"
   ]
  },
  {
   "cell_type": "markdown",
   "id": "50fc7c55-7a43-4959-bad9-ca4eb6f161ea",
   "metadata": {},
   "source": [
    "### "
   ]
  },
  {
   "cell_type": "code",
   "execution_count": null,
   "id": "e813e1b9-496c-413d-93c0-0acd1324d87e",
   "metadata": {},
   "outputs": [],
   "source": []
  }
 ],
 "metadata": {
  "kernelspec": {
   "display_name": "Python 3 (ipykernel)",
   "language": "python",
   "name": "python3"
  },
  "language_info": {
   "codemirror_mode": {
    "name": "ipython",
    "version": 3
   },
   "file_extension": ".py",
   "mimetype": "text/x-python",
   "name": "python",
   "nbconvert_exporter": "python",
   "pygments_lexer": "ipython3",
   "version": "3.12.7"
  }
 },
 "nbformat": 4,
 "nbformat_minor": 5
}
